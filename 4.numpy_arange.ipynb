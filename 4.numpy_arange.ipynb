{
 "cells": [
  {
   "cell_type": "code",
   "execution_count": 1,
   "id": "e585575d-09d9-4944-8133-24ab933b82b4",
   "metadata": {},
   "outputs": [],
   "source": [
    "import numpy as np"
   ]
  },
  {
   "cell_type": "code",
   "execution_count": 2,
   "id": "ed6c0e0c-4963-4b7e-bf94-bf4aa78fc769",
   "metadata": {},
   "outputs": [
    {
     "data": {
      "text/plain": [
       "[0, 3, 6, 9]"
      ]
     },
     "execution_count": 2,
     "metadata": {},
     "output_type": "execute_result"
    }
   ],
   "source": [
    "#arange\n",
    "list(range(0,10,3))"
   ]
  },
  {
   "cell_type": "code",
   "execution_count": 3,
   "id": "cf371b71-b73d-41de-802a-a50abbca85c3",
   "metadata": {},
   "outputs": [
    {
     "data": {
      "text/plain": [
       "list"
      ]
     },
     "execution_count": 3,
     "metadata": {},
     "output_type": "execute_result"
    }
   ],
   "source": [
    "type(list(range(30)))"
   ]
  },
  {
   "cell_type": "code",
   "execution_count": 4,
   "id": "c9363282-564e-4505-98b6-684391480579",
   "metadata": {},
   "outputs": [
    {
     "data": {
      "text/plain": [
       "array([ 0,  1,  2,  3,  4,  5,  6,  7,  8,  9, 10, 11, 12, 13, 14, 15, 16,\n",
       "       17, 18, 19, 20, 21, 22, 23, 24, 25, 26, 27, 28, 29])"
      ]
     },
     "execution_count": 4,
     "metadata": {},
     "output_type": "execute_result"
    }
   ],
   "source": [
    "#range : list의 range 와 같은 효과,\n",
    "#integer로 0부터 29까지 배열추출\n",
    "np.arange(30)"
   ]
  },
  {
   "cell_type": "code",
   "execution_count": 5,
   "id": "03477155-bacb-407a-819f-e34d44f3e392",
   "metadata": {},
   "outputs": [
    {
     "data": {
      "text/plain": [
       "array([0. , 0.5, 1. , 1.5, 2. , 2.5, 3. , 3.5, 4. , 4.5, 5. , 5.5, 6. ,\n",
       "       6.5, 7. , 7.5, 8. , 8.5, 9. , 9.5])"
      ]
     },
     "execution_count": 5,
     "metadata": {},
     "output_type": "execute_result"
    }
   ],
   "source": [
    "np.arange(0,10,0.5)"
   ]
  },
  {
   "cell_type": "code",
   "execution_count": null,
   "id": "ba72f356-0d2a-45b9-a602-448d1776dd0f",
   "metadata": {},
   "outputs": [],
   "source": [
    "np.arange(0,5,0.5)"
   ]
  },
  {
   "cell_type": "code",
   "execution_count": 6,
   "id": "dc64a18e-78ec-42b8-9638-884ec4192154",
   "metadata": {},
   "outputs": [
    {
     "data": {
      "text/plain": [
       "array([[ 0,  1,  2,  3,  4,  5],\n",
       "       [ 6,  7,  8,  9, 10, 11],\n",
       "       [12, 13, 14, 15, 16, 17],\n",
       "       [18, 19, 20, 21, 22, 23],\n",
       "       [24, 25, 26, 27, 28, 29]])"
      ]
     },
     "execution_count": 6,
     "metadata": {},
     "output_type": "execute_result"
    }
   ],
   "source": [
    "np.arange(30).reshape(5,6)"
   ]
  },
  {
   "cell_type": "code",
   "execution_count": 7,
   "id": "5bcaa675-2344-4072-b38b-58545338af38",
   "metadata": {},
   "outputs": [
    {
     "data": {
      "text/plain": [
       "array([0, 0, 0, 0, 0, 0, 0, 0, 0, 0], dtype=int8)"
      ]
     },
     "execution_count": 7,
     "metadata": {},
     "output_type": "execute_result"
    }
   ],
   "source": [
    "#ones,zeros & empty\n",
    "#10 - zero vector 생성\n",
    "np.zeros(shape=(10,),\n",
    "                dtype = np.int8)"
   ]
  },
  {
   "cell_type": "code",
   "execution_count": 8,
   "id": "0d235461-9093-438a-9836-33ed6c3583e6",
   "metadata": {},
   "outputs": [
    {
     "data": {
      "text/plain": [
       "array([[0., 0., 0., 0., 0.],\n",
       "       [0., 0., 0., 0., 0.]])"
      ]
     },
     "execution_count": 8,
     "metadata": {},
     "output_type": "execute_result"
    }
   ],
   "source": [
    "np.zeros((2,5))  #2 by 5 - zero matrix 생성"
   ]
  },
  {
   "cell_type": "code",
   "execution_count": 14,
   "id": "f0b700e6-f5f9-4c0f-a5cb-2990a5cd9501",
   "metadata": {},
   "outputs": [
    {
     "data": {
      "text/plain": [
       "array([1, 1, 1, 1, 1, 1, 1, 1, 1, 1], dtype=int8)"
      ]
     },
     "execution_count": 14,
     "metadata": {},
     "output_type": "execute_result"
    }
   ],
   "source": [
    "np.ones(shape=(10, ), dtype=np.int8)"
   ]
  },
  {
   "cell_type": "code",
   "execution_count": 18,
   "id": "474a13b5-2306-4cae-b274-888abdaa8ce8",
   "metadata": {},
   "outputs": [
    {
     "data": {
      "text/plain": [
       "array([0, 0, 0, 0, 0, 0, 0, 0, 0, 0], dtype=int8)"
      ]
     },
     "execution_count": 18,
     "metadata": {},
     "output_type": "execute_result"
    }
   ],
   "source": [
    "np.empty(shape=(10,), dtype=np.int8)"
   ]
  },
  {
   "cell_type": "code",
   "execution_count": 11,
   "id": "ecb952c4-11c9-4c0f-bd20-0863fbd6858a",
   "metadata": {},
   "outputs": [
    {
     "data": {
      "text/plain": [
       "array([[0., 0., 0., 0., 0.],\n",
       "       [0., 0., 0., 0., 0.],\n",
       "       [0., 0., 0., 0., 0.],\n",
       "       [0., 0., 0., 0., 0.],\n",
       "       [0., 0., 0., 0., 0.],\n",
       "       [0., 0., 0., 0., 0.],\n",
       "       [0., 0., 0., 0., 0.],\n",
       "       [0., 0., 0., 0., 0.],\n",
       "       [0., 0., 0., 0., 0.],\n",
       "       [0., 0., 0., 0., 0.]])"
      ]
     },
     "execution_count": 11,
     "metadata": {},
     "output_type": "execute_result"
    }
   ],
   "source": [
    "np.empty((10,5))"
   ]
  },
  {
   "cell_type": "code",
   "execution_count": 19,
   "id": "2b6c42ba-63b8-4461-aa68-07192e0b0d7d",
   "metadata": {},
   "outputs": [
    {
     "data": {
      "text/plain": [
       "(5, 20)"
      ]
     },
     "execution_count": 19,
     "metadata": {},
     "output_type": "execute_result"
    }
   ],
   "source": [
    "test_matrix = np.arange(100).reshape(5,-1)\n",
    "test_matrix.shape"
   ]
  },
  {
   "cell_type": "code",
   "execution_count": 20,
   "id": "1923d0d7-2797-4941-a692-845d0da1cbe7",
   "metadata": {},
   "outputs": [
    {
     "data": {
      "text/plain": [
       "array([[ 0,  1,  2,  3,  4,  5,  6,  7,  8,  9, 10, 11, 12, 13, 14, 15,\n",
       "        16, 17, 18, 19],\n",
       "       [20, 21, 22, 23, 24, 25, 26, 27, 28, 29, 30, 31, 32, 33, 34, 35,\n",
       "        36, 37, 38, 39],\n",
       "       [40, 41, 42, 43, 44, 45, 46, 47, 48, 49, 50, 51, 52, 53, 54, 55,\n",
       "        56, 57, 58, 59],\n",
       "       [60, 61, 62, 63, 64, 65, 66, 67, 68, 69, 70, 71, 72, 73, 74, 75,\n",
       "        76, 77, 78, 79],\n",
       "       [80, 81, 82, 83, 84, 85, 86, 87, 88, 89, 90, 91, 92, 93, 94, 95,\n",
       "        96, 97, 98, 99]])"
      ]
     },
     "execution_count": 20,
     "metadata": {},
     "output_type": "execute_result"
    }
   ],
   "source": [
    "test_matrix"
   ]
  },
  {
   "cell_type": "code",
   "execution_count": 21,
   "id": "bfcf8846-a56b-4f8d-8c32-6b9f39c0ac33",
   "metadata": {},
   "outputs": [
    {
     "data": {
      "text/plain": [
       "array([[0., 0., 0., 0., 0., 0., 0., 0., 0., 0., 0., 0., 0., 0., 0., 0.,\n",
       "        0., 0., 0., 0.],\n",
       "       [0., 0., 0., 0., 0., 0., 0., 0., 0., 0., 0., 0., 0., 0., 0., 0.,\n",
       "        0., 0., 0., 0.],\n",
       "       [0., 0., 0., 0., 0., 0., 0., 0., 0., 0., 0., 0., 0., 0., 0., 0.,\n",
       "        0., 0., 0., 0.],\n",
       "       [0., 0., 0., 0., 0., 0., 0., 0., 0., 0., 0., 0., 0., 0., 0., 0.,\n",
       "        0., 0., 0., 0.],\n",
       "       [0., 0., 0., 0., 0., 0., 0., 0., 0., 0., 0., 0., 0., 0., 0., 0.,\n",
       "        0., 0., 0., 0.]], dtype=float32)"
      ]
     },
     "execution_count": 21,
     "metadata": {},
     "output_type": "execute_result"
    }
   ],
   "source": [
    "np.zeros_like(test_matrix, dtype=np.float32)"
   ]
  },
  {
   "cell_type": "code",
   "execution_count": 22,
   "id": "f68dcbce-6372-48fb-a024-9f35fd956c09",
   "metadata": {},
   "outputs": [
    {
     "data": {
      "text/plain": [
       "array([[1, 0, 0, 0, 0],\n",
       "       [0, 1, 0, 0, 0],\n",
       "       [0, 0, 1, 0, 0],\n",
       "       [0, 0, 0, 1, 0],\n",
       "       [0, 0, 0, 0, 1]], dtype=int8)"
      ]
     },
     "execution_count": 22,
     "metadata": {},
     "output_type": "execute_result"
    }
   ],
   "source": [
    "#eye, identity, &diagonal\n",
    "np.identity(n=5, dtype=np.int8)"
   ]
  },
  {
   "cell_type": "code",
   "execution_count": 23,
   "id": "af829a94-316a-4795-a69a-14428dd48337",
   "metadata": {},
   "outputs": [
    {
     "data": {
      "text/plain": [
       "array([[1, 0, 0, 0, 0],\n",
       "       [0, 1, 0, 0, 0],\n",
       "       [0, 0, 1, 0, 0]], dtype=int8)"
      ]
     },
     "execution_count": 23,
     "metadata": {},
     "output_type": "execute_result"
    }
   ],
   "source": [
    "np.eye(N=3, M=5, dtype=np.int8)"
   ]
  },
  {
   "cell_type": "code",
   "execution_count": 24,
   "id": "735727dd-a936-4bef-a518-746b1ae617d2",
   "metadata": {},
   "outputs": [
    {
     "data": {
      "text/plain": [
       "array([[1., 0., 0.],\n",
       "       [0., 1., 0.],\n",
       "       [0., 0., 1.]])"
      ]
     },
     "execution_count": 24,
     "metadata": {},
     "output_type": "execute_result"
    }
   ],
   "source": [
    "np.eye(3)"
   ]
  },
  {
   "cell_type": "code",
   "execution_count": 25,
   "id": "f131bc84-fb14-4f5d-b36d-541c9a959a11",
   "metadata": {},
   "outputs": [
    {
     "data": {
      "text/plain": [
       "array([[0., 0., 1., 0., 0.],\n",
       "       [0., 0., 0., 1., 0.],\n",
       "       [0., 0., 0., 0., 1.]])"
      ]
     },
     "execution_count": 25,
     "metadata": {},
     "output_type": "execute_result"
    }
   ],
   "source": [
    "np.eye(3,5, k=2)"
   ]
  },
  {
   "cell_type": "code",
   "execution_count": 28,
   "id": "3cae1da8-3138-4c9d-9321-962a12a771e8",
   "metadata": {},
   "outputs": [
    {
     "data": {
      "text/plain": [
       "array([[ 0,  1,  2,  3],\n",
       "       [ 4,  5,  6,  7],\n",
       "       [ 8,  9, 10, 11]])"
      ]
     },
     "execution_count": 28,
     "metadata": {},
     "output_type": "execute_result"
    }
   ],
   "source": [
    "matrix = np.arange(12).reshape(3,4)\n",
    "matrix"
   ]
  },
  {
   "cell_type": "code",
   "execution_count": 29,
   "id": "d6269889-c309-4461-bc11-85c7370059b4",
   "metadata": {},
   "outputs": [
    {
     "data": {
      "text/plain": [
       "array([4, 9])"
      ]
     },
     "execution_count": 29,
     "metadata": {},
     "output_type": "execute_result"
    }
   ],
   "source": [
    "np.diag(matrix, k=-1)"
   ]
  },
  {
   "cell_type": "code",
   "execution_count": 30,
   "id": "3d82c30a-68f3-4839-a9b1-e722c0668ed4",
   "metadata": {},
   "outputs": [
    {
     "data": {
      "text/plain": [
       "array([ 1,  6, 11])"
      ]
     },
     "execution_count": 30,
     "metadata": {},
     "output_type": "execute_result"
    }
   ],
   "source": [
    "np.diag(matrix, k=1)"
   ]
  },
  {
   "cell_type": "code",
   "execution_count": 31,
   "id": "4ee39728-598b-4fd3-91c3-c5289d6c650e",
   "metadata": {},
   "outputs": [
    {
     "data": {
      "text/plain": [
       "array([[ 1.42035705, -0.92030127,  0.05652617, -0.06946909, -1.65007012],\n",
       "       [ 0.32999468,  1.00686675, -0.49627685,  0.50572518, -1.05169937]])"
      ]
     },
     "execution_count": 31,
     "metadata": {},
     "output_type": "execute_result"
    }
   ],
   "source": [
    "#numpy random\n",
    "np.random.normal(0,1,10).reshape(2,5)"
   ]
  },
  {
   "cell_type": "code",
   "execution_count": 32,
   "id": "d4327b98-7426-4dba-b0ea-3e6aab4ccdf9",
   "metadata": {},
   "outputs": [
    {
     "data": {
      "text/plain": [
       "array([2.83657291e+00, 3.88186685e+00, 2.15683913e-01, 3.19441267e+00,\n",
       "       2.74174128e+00, 4.57397739e+00, 1.30430188e+00, 1.79818918e+00,\n",
       "       2.50305297e+00, 2.10711477e+00, 1.29610141e+00, 2.52873986e+00,\n",
       "       4.90010852e-01, 2.15388231e+00, 1.27667720e+00, 1.55903730e+00,\n",
       "       3.49431001e+00, 1.40822459e+00, 1.13284712e+00, 1.46797783e+00,\n",
       "       4.13558434e-01, 2.43275735e+00, 3.27060898e-01, 1.12648344e+00,\n",
       "       5.62943300e+00, 1.36996484e+00, 2.66893695e+00, 1.56578668e+00,\n",
       "       2.08661391e+00, 9.25576677e-01, 6.90620995e-01, 1.86338650e-01,\n",
       "       3.54659522e+00, 1.10649906e+00, 4.88691656e-01, 5.79063795e-01,\n",
       "       4.28331521e-01, 1.99969742e-01, 4.42805015e-01, 1.09957281e+00,\n",
       "       6.42971972e-01, 8.32776170e-01, 2.23049071e+00, 3.08747223e+00,\n",
       "       6.21857453e-01, 7.54143910e-01, 1.03746698e+00, 2.08139885e+00,\n",
       "       1.84984304e+00, 1.55844907e+00, 1.88813430e-01, 6.08754336e-01,\n",
       "       3.20091859e+00, 1.36735040e+00, 3.85595672e+00, 4.31635877e-01,\n",
       "       3.22273362e+00, 2.63519859e+00, 1.95933112e+00, 9.68215546e-01,\n",
       "       9.40398475e-01, 3.79442998e-01, 4.64342649e-01, 3.38642971e-01,\n",
       "       3.89087757e+00, 4.53617518e-01, 3.85141147e-02, 5.57006762e-01,\n",
       "       1.82751576e+00, 5.33076962e+00, 2.23773889e+00, 2.85860533e+00,\n",
       "       2.20612386e+00, 5.08457979e+00, 1.07446882e+00, 4.22346289e+00,\n",
       "       3.73760381e-01, 2.36116447e+00, 1.06104106e+00, 6.79336541e+00,\n",
       "       3.94924788e+00, 3.31590452e+00, 1.61116765e+00, 2.76637988e-01,\n",
       "       2.10439376e+00, 9.89443490e-01, 1.00770560e+00, 4.89829205e+00,\n",
       "       3.69286076e+00, 1.50781210e+00, 2.76274649e+00, 1.02088408e+00,\n",
       "       6.10642655e-01, 4.50128441e+00, 5.26454058e+00, 3.67032554e+00,\n",
       "       1.47904327e-01, 9.87378353e-01, 1.54031630e-03, 3.79873037e+00])"
      ]
     },
     "execution_count": 32,
     "metadata": {},
     "output_type": "execute_result"
    }
   ],
   "source": [
    "np.random.exponential(scale=2, size=100)"
   ]
  },
  {
   "cell_type": "code",
   "execution_count": null,
   "id": "e705a758-b57c-41f7-ae9b-18f0a6e0e56a",
   "metadata": {},
   "outputs": [],
   "source": []
  }
 ],
 "metadata": {
  "kernelspec": {
   "display_name": "Python 3 (ipykernel)",
   "language": "python",
   "name": "python3"
  },
  "language_info": {
   "codemirror_mode": {
    "name": "ipython",
    "version": 3
   },
   "file_extension": ".py",
   "mimetype": "text/x-python",
   "name": "python",
   "nbconvert_exporter": "python",
   "pygments_lexer": "ipython3",
   "version": "3.11.4"
  }
 },
 "nbformat": 4,
 "nbformat_minor": 5
}
