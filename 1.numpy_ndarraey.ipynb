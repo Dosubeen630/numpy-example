{
 "cells": [
  {
   "cell_type": "code",
   "execution_count": 3,
   "id": "e3b23e35-cf35-4307-ae1d-79a856d490b4",
   "metadata": {},
   "outputs": [],
   "source": [
    "import numpy as np"
   ]
  },
  {
   "cell_type": "code",
   "execution_count": 4,
   "id": "8c1889cf-0986-47e1-b692-5c016e8edd22",
   "metadata": {},
   "outputs": [],
   "source": [
    "# array 의 생성\n",
    "a = [1,2,3,4,5]\n",
    "b = [ 5,4,3,2,1]"
   ]
  },
  {
   "cell_type": "code",
   "execution_count": 5,
   "id": "e8de54b6-fa19-4ed0-a530-cbabf00b8fb5",
   "metadata": {},
   "outputs": [
    {
     "data": {
      "text/plain": [
       "array([1, 2, 3, 4, 5])"
      ]
     },
     "execution_count": 5,
     "metadata": {},
     "output_type": "execute_result"
    }
   ],
   "source": [
    "a = np.array(a, int)\n",
    "a"
   ]
  },
  {
   "cell_type": "code",
   "execution_count": 8,
   "id": "e754a6d1-544e-4529-9e64-006d38982a1e",
   "metadata": {},
   "outputs": [
    {
     "data": {
      "text/plain": [
       "array([1., 4., 5., 8.])"
      ]
     },
     "execution_count": 8,
     "metadata": {},
     "output_type": "execute_result"
    }
   ],
   "source": [
    "test_array = np.array([\"1\", \"4\", 5, 8] , float)   # shift + Tab 버튼을 누르면 docstring이 보임.\n",
    "test_array"
   ]
  },
  {
   "cell_type": "code",
   "execution_count": 9,
   "id": "7431fac2-280f-4ffb-9b96-7d06b29b6e6f",
   "metadata": {},
   "outputs": [
    {
     "data": {
      "text/plain": [
       "numpy.ndarray"
      ]
     },
     "execution_count": 9,
     "metadata": {},
     "output_type": "execute_result"
    }
   ],
   "source": [
    "type(test_array)"
   ]
  },
  {
   "cell_type": "code",
   "execution_count": 10,
   "id": "c82c4192-da58-4ed7-8fd3-e98ab102d229",
   "metadata": {},
   "outputs": [
    {
     "data": {
      "text/plain": [
       "numpy.float64"
      ]
     },
     "execution_count": 10,
     "metadata": {},
     "output_type": "execute_result"
    }
   ],
   "source": [
    "type(test_array[3])"
   ]
  },
  {
   "cell_type": "code",
   "execution_count": 11,
   "id": "e9de3c10-818f-42cb-8dcb-b0d6fee400f3",
   "metadata": {},
   "outputs": [
    {
     "data": {
      "text/plain": [
       "array([1., 4., 5., 8.])"
      ]
     },
     "execution_count": 11,
     "metadata": {},
     "output_type": "execute_result"
    }
   ],
   "source": [
    "test_array = np.array([1, 4, 5, \"8\"], float) # String Type Data를 입력해도\n",
    "test_array"
   ]
  },
  {
   "cell_type": "code",
   "execution_count": 13,
   "id": "e5cacf82-0fec-4244-a55b-1e309f3f80f3",
   "metadata": {},
   "outputs": [
    {
     "data": {
      "text/plain": [
       "numpy.float64"
      ]
     },
     "execution_count": 13,
     "metadata": {},
     "output_type": "execute_result"
    }
   ],
   "source": [
    "type(test_array[3]) #Float type 으로 자동 형변환 실시"
   ]
  },
  {
   "cell_type": "code",
   "execution_count": 14,
   "id": "0da95e78-6f56-4a0c-96aa-90a228727d95",
   "metadata": {},
   "outputs": [
    {
     "data": {
      "text/plain": [
       "True"
      ]
     },
     "execution_count": 14,
     "metadata": {},
     "output_type": "execute_result"
    }
   ],
   "source": [
    "a = [1,2,3,4,5]\n",
    "b = [5,4,3,2,1]\n",
    "a[0] is b[-1]"
   ]
  },
  {
   "cell_type": "code",
   "execution_count": 15,
   "id": "8a4b3993-b780-4b3a-a32e-cd8c7d76e412",
   "metadata": {},
   "outputs": [
    {
     "data": {
      "text/plain": [
       "False"
      ]
     },
     "execution_count": 15,
     "metadata": {},
     "output_type": "execute_result"
    }
   ],
   "source": [
    "a = np.array(a)\n",
    "b = np.array(b)\n",
    "a[0] is b[-1]"
   ]
  },
  {
   "cell_type": "code",
   "execution_count": 16,
   "id": "210c7d26-34d5-4266-a9c3-8cd8fe25803f",
   "metadata": {},
   "outputs": [
    {
     "data": {
      "text/plain": [
       "dtype('float64')"
      ]
     },
     "execution_count": 16,
     "metadata": {},
     "output_type": "execute_result"
    }
   ],
   "source": [
    "test_array.dtype #Array배열 전체의 데이터 타입을 반환함"
   ]
  },
  {
   "cell_type": "code",
   "execution_count": 17,
   "id": "faa35b99-39af-445e-a838-1ab22ae8bbde",
   "metadata": {},
   "outputs": [],
   "source": [
    "a = [[1,2,3] , [4,5,6], [4,5,6]]"
   ]
  },
  {
   "cell_type": "code",
   "execution_count": 18,
   "id": "351009ca-8995-4561-b842-99ae705a8672",
   "metadata": {},
   "outputs": [
    {
     "data": {
      "text/plain": [
       "(3, 3)"
      ]
     },
     "execution_count": 18,
     "metadata": {},
     "output_type": "execute_result"
    }
   ],
   "source": [
    "np.array(a).shape"
   ]
  },
  {
   "cell_type": "code",
   "execution_count": 19,
   "id": "1654b19a-cf62-4f29-8adb-44c950290495",
   "metadata": {},
   "outputs": [
    {
     "data": {
      "text/plain": [
       "(4,)"
      ]
     },
     "execution_count": 19,
     "metadata": {},
     "output_type": "execute_result"
    }
   ],
   "source": [
    "#array shape\n",
    "vector = [1,2,3,4]\n",
    "np.array(vector, int).shape"
   ]
  },
  {
   "cell_type": "code",
   "execution_count": 20,
   "id": "7a3b5e40-576c-445c-ae4d-b9bf82c7c184",
   "metadata": {},
   "outputs": [
    {
     "data": {
      "text/plain": [
       "array([[1, 2, 5, 8],\n",
       "       [1, 2, 5, 8],\n",
       "       [1, 2, 5, 8]])"
      ]
     },
     "execution_count": 20,
     "metadata": {},
     "output_type": "execute_result"
    }
   ],
   "source": [
    "matrix = [[1,2,5,8,] , [1,2,5,8], [1,2,5,8]]\n",
    "np.array(matrix, int)"
   ]
  },
  {
   "cell_type": "code",
   "execution_count": 23,
   "id": "35ceb0ad-2e9f-401d-a5c6-759f3362df6a",
   "metadata": {},
   "outputs": [
    {
     "data": {
      "text/plain": [
       "(4, 3, 4)"
      ]
     },
     "execution_count": 23,
     "metadata": {},
     "output_type": "execute_result"
    }
   ],
   "source": [
    "tensor = [\n",
    "    [[1,2,5,8],[1,2,5,8],[1,2,5,8]],\n",
    "    [[1,2,5,8],[1,2,5,8],[1,2,5,8]],\n",
    "    [[1,2,5,8],[1,2,5,8],[1,2,5,8]],\n",
    "    [[1,2,5,8],[1,2,5,8],[1,2,5,8]],\n",
    "]\n",
    "np.array(tensor, int).shape"
   ]
  },
  {
   "cell_type": "code",
   "execution_count": 24,
   "id": "5b61e54e-e457-47bd-bceb-e0340675d54b",
   "metadata": {},
   "outputs": [
    {
     "data": {
      "text/plain": [
       "3"
      ]
     },
     "execution_count": 24,
     "metadata": {},
     "output_type": "execute_result"
    }
   ],
   "source": [
    "np.array(tensor, int).ndim"
   ]
  },
  {
   "cell_type": "code",
   "execution_count": 25,
   "id": "b1d1ad3f-e4a1-4317-b398-de8824cb0047",
   "metadata": {},
   "outputs": [
    {
     "data": {
      "text/plain": [
       "48"
      ]
     },
     "execution_count": 25,
     "metadata": {},
     "output_type": "execute_result"
    }
   ],
   "source": [
    "np.array(tensor, int).size"
   ]
  },
  {
   "cell_type": "code",
   "execution_count": 26,
   "id": "26537fa6-77f4-4dfb-a1aa-d294ff8ce976",
   "metadata": {},
   "outputs": [],
   "source": [
    "#numpy dtype\n",
    "a = np.array([[1,2,3], [4,5,6]], dtype=np.int8)"
   ]
  },
  {
   "cell_type": "code",
   "execution_count": 28,
   "id": "c033344b-78f0-4fb1-a82f-9211b3e9c9e6",
   "metadata": {},
   "outputs": [
    {
     "data": {
      "text/plain": [
       "dtype('int8')"
      ]
     },
     "execution_count": 28,
     "metadata": {},
     "output_type": "execute_result"
    }
   ],
   "source": [
    "a.dtype"
   ]
  },
  {
   "cell_type": "code",
   "execution_count": 30,
   "id": "ada53e0d-9e50-4eb9-a92f-d09eb9a8cdb8",
   "metadata": {},
   "outputs": [
    {
     "data": {
      "text/plain": [
       "24"
      ]
     },
     "execution_count": 30,
     "metadata": {},
     "output_type": "execute_result"
    }
   ],
   "source": [
    "np.array([[1,2,3], [4.5,\"5\",\"6\"]], dtype=np.float32).nbytes"
   ]
  },
  {
   "cell_type": "code",
   "execution_count": 32,
   "id": "3459177d-c81a-47f7-b61c-5a80fe086d32",
   "metadata": {},
   "outputs": [
    {
     "data": {
      "text/plain": [
       "24"
      ]
     },
     "execution_count": 32,
     "metadata": {},
     "output_type": "execute_result"
    }
   ],
   "source": [
    "np.array([[1,2,3], [4.5,\"5\",\"6\"]], dtype=np.int32).nbytes"
   ]
  },
  {
   "cell_type": "code",
   "execution_count": 33,
   "id": "35feb16d-8fd6-44ca-8c5a-b61b8eba41a2",
   "metadata": {},
   "outputs": [
    {
     "data": {
      "text/plain": [
       "6"
      ]
     },
     "execution_count": 33,
     "metadata": {},
     "output_type": "execute_result"
    }
   ],
   "source": [
    "np.array([[1,2,3], [4.5,\"5\",\"6\"]], dtype=np.int8).nbytes"
   ]
  },
  {
   "cell_type": "code",
   "execution_count": 31,
   "id": "050f1959-b974-42de-a3f3-5512f42c972d",
   "metadata": {},
   "outputs": [
    {
     "data": {
      "text/plain": [
       "48"
      ]
     },
     "execution_count": 31,
     "metadata": {},
     "output_type": "execute_result"
    }
   ],
   "source": [
    "np.array([[1,2,3], [4.5,\"5\",\"6\"]], dtype=np.float64).nbytes"
   ]
  },
  {
   "cell_type": "code",
   "execution_count": null,
   "id": "debd2d99-564e-47c0-bb83-ae2d108005c4",
   "metadata": {},
   "outputs": [],
   "source": []
  }
 ],
 "metadata": {
  "kernelspec": {
   "display_name": "Python 3 (ipykernel)",
   "language": "python",
   "name": "python3"
  },
  "language_info": {
   "codemirror_mode": {
    "name": "ipython",
    "version": 3
   },
   "file_extension": ".py",
   "mimetype": "text/x-python",
   "name": "python",
   "nbconvert_exporter": "python",
   "pygments_lexer": "ipython3",
   "version": "3.11.4"
  }
 },
 "nbformat": 4,
 "nbformat_minor": 5
}
